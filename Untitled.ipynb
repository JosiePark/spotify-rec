{
 "cells": [
  {
   "cell_type": "code",
   "execution_count": 1,
   "id": "b9fdea57",
   "metadata": {},
   "outputs": [],
   "source": [
    "from spotifyRec.config import CLIENT_ID, CLIENT_SECRET, REDIRECT_URI\n",
    "from spotifyRec.api_funcs import read_from_api, authenticate_spotify"
   ]
  },
  {
   "cell_type": "code",
   "execution_count": null,
   "id": "ce75a00b",
   "metadata": {},
   "outputs": [],
   "source": [
    "sp = authenticate_spotify()\n",
    "artist_api_call = sp.current_user_top_artists()\n",
    "top_artsits = read_from_api(sp, artist_api_call)"
   ]
  },
  {
   "cell_type": "code",
   "execution_count": null,
   "id": "0a2e9d40",
   "metadata": {},
   "outputs": [],
   "source": []
  }
 ],
 "metadata": {
  "kernelspec": {
   "display_name": "Python 3 (ipykernel)",
   "language": "python",
   "name": "python3"
  },
  "language_info": {
   "codemirror_mode": {
    "name": "ipython",
    "version": 3
   },
   "file_extension": ".py",
   "mimetype": "text/x-python",
   "name": "python",
   "nbconvert_exporter": "python",
   "pygments_lexer": "ipython3",
   "version": "3.8.13"
  }
 },
 "nbformat": 4,
 "nbformat_minor": 5
}
